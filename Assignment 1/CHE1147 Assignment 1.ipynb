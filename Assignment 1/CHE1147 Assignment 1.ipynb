{
 "cells": [
  {
   "cell_type": "code",
   "execution_count": 1,
   "metadata": {
    "colab": {
     "base_uri": "https://localhost:8080/",
     "height": 252
    },
    "colab_type": "code",
    "executionInfo": {
     "elapsed": 336,
     "status": "error",
     "timestamp": 1580239034155,
     "user": {
      "displayName": "Jason Zhang",
      "photoUrl": "https://lh3.googleusercontent.com/a-/AAuE7mBR3SmoUyQUmshj1JW5J4OZJ2hx7XI42lBPprZhaq0=s64",
      "userId": "00906078751137481834"
     },
     "user_tz": 300
    },
    "id": "YwxhmDmBwaUx",
    "outputId": "8c446d02-5ee2-4334-8e09-a4a3490cfe8b"
   },
   "outputs": [
    {
     "name": "stdout",
     "output_type": "stream",
     "text": [
      "Facebook\n",
      "Instagram\n",
      "('Facebook', 'Amazon', 'Netflix')\n"
     ]
    }
   ],
   "source": [
    "#1. Python data structures and other essentials\n",
    "#1.1 Tuples\n",
    "#1\n",
    "apps_tuple = (\"Google\", \"Facebook\", \"Amazon\", \"Netflix\", \"AirBnB\", \"Instagram\")\n",
    "#2\n",
    "print(apps_tuple[1])\n",
    "print(apps_tuple[-1])\n",
    "#3 \n",
    "print(apps_tuple[1:4])\n",
    "#4 \n",
    "#apps_tuple.append(\"Messenger\")"
   ]
  },
  {
   "cell_type": "markdown",
   "metadata": {
    "colab_type": "text",
    "id": "IQ6Pke0kzPsi"
   },
   "source": [
    "Appending to an existing tuple is not possible as tuples are not changeable. "
   ]
  },
  {
   "cell_type": "code",
   "execution_count": 2,
   "metadata": {
    "colab": {
     "base_uri": "https://localhost:8080/",
     "height": 104
    },
    "colab_type": "code",
    "executionInfo": {
     "elapsed": 328,
     "status": "ok",
     "timestamp": 1580239034157,
     "user": {
      "displayName": "Jason Zhang",
      "photoUrl": "https://lh3.googleusercontent.com/a-/AAuE7mBR3SmoUyQUmshj1JW5J4OZJ2hx7XI42lBPprZhaq0=s64",
      "userId": "00906078751137481834"
     },
     "user_tz": 300
    },
    "id": "aEarFf7DzqYY",
    "outputId": "80a69e24-7d89-4026-b38f-2b8ad1413c04"
   },
   "outputs": [
    {
     "name": "stdout",
     "output_type": "stream",
     "text": [
      "['Google', 'Facebook', 'Amazon']\n",
      "['AirBnB', 'Instagram']\n",
      "['Google', 'YouTube', 'Facebook', 'Amazon', 'Netflix', 'AirBnB', 'Instagram', 'Messenger']\n",
      "Facebook is removed.\n",
      "['Google', 'YouTube', 'Amazon', 'Netflix', 'AirBnB', 'Instagram', 'Messenger', ['Linkedin', 'Twitter']]\n"
     ]
    }
   ],
   "source": [
    "#1.2 Lists\n",
    "#1 \n",
    "apps_list = [\"Google\", \"Facebook\", \"Amazon\", \"Netflix\", \"AirBnB\", \"Instagram\"]\n",
    "#2\n",
    "print(apps_list[:3])\n",
    "#3\n",
    "print(apps_list[4:])\n",
    "#4\n",
    "apps_list.append('Messenger')\n",
    "apps_list.insert(1,'YouTube')\n",
    "print(apps_list)\n",
    "#5\n",
    "apps_list.pop(2)\n",
    "if 'Facebook' in apps_list:\n",
    "  print('Facebook is not removed.')\n",
    "else:\n",
    "  print('Facebook is removed.')\n",
    "#5\n",
    "apps_list.append(['Linkedin', 'Twitter'])\n",
    "print(apps_list)"
   ]
  },
  {
   "cell_type": "code",
   "execution_count": 3,
   "metadata": {
    "colab": {
     "base_uri": "https://localhost:8080/",
     "height": 89
    },
    "colab_type": "code",
    "executionInfo": {
     "elapsed": 501,
     "status": "ok",
     "timestamp": 1580239034338,
     "user": {
      "displayName": "Jason Zhang",
      "photoUrl": "https://lh3.googleusercontent.com/a-/AAuE7mBR3SmoUyQUmshj1JW5J4OZJ2hx7XI42lBPprZhaq0=s64",
      "userId": "00906078751137481834"
     },
     "user_tz": 300
    },
    "id": "9FqDE-LpSsfJ",
    "outputId": "06f17c50-c308-476a-861f-fd5b887e9a15"
   },
   "outputs": [
    {
     "name": "stdout",
     "output_type": "stream",
     "text": [
      "{'app0': 'Google', 'app1': 'Facebook', 'app2': 'Amazon', 'app3': 'Netflix', 'app4': 'AirBnB', 'app5': 'Instagram'}\n",
      "{'app0': 'Google', 'app1': 'Youtube', 'app2': 'Amazon', 'app3': 'Netflix', 'app4': 'AirBnB', 'app5': 'Instagram'}\n",
      "{'app0': 'Google', 'app1': 'Youtube', 'app2': 'Amazon', 'app3': 'Netflix', 'app4': 'AirBnB', 'app5': 'Instagram', 'app6': 'Messenger'}\n"
     ]
    }
   ],
   "source": [
    "#1.3 Dicts\n",
    "#1 \n",
    "values = [\"Google\", \"Facebook\", \"Amazon\", \"Netflix\", \"AirBnB\", \"Instagram\"]\n",
    "keys = ['app0', 'app1', 'app2', 'app3', 'app4', 'app5']\n",
    "apps_dict = dict(zip(keys, values))\n",
    "print(apps_dict)\n",
    "#2\n",
    "apps_dict['app1'] = 'Youtube'\n",
    "print(apps_dict)\n",
    "#3 \n",
    "apps_dict['app6'] = 'Messenger'\n",
    "print(apps_dict)\n",
    "#4: this syntax will change the value of 'app1' from 'Youtube' to 'Messenger.\n",
    "#5: this syntax will add a new key-value pair to the existing dictionary.\n",
    "#6: this syntax will delete the newly added key-value pair."
   ]
  },
  {
   "cell_type": "code",
   "execution_count": 4,
   "metadata": {
    "colab": {
     "base_uri": "https://localhost:8080/",
     "height": 35
    },
    "colab_type": "code",
    "executionInfo": {
     "elapsed": 351,
     "status": "ok",
     "timestamp": 1580239670381,
     "user": {
      "displayName": "Jason Zhang",
      "photoUrl": "https://lh3.googleusercontent.com/a-/AAuE7mBR3SmoUyQUmshj1JW5J4OZJ2hx7XI42lBPprZhaq0=s64",
      "userId": "00906078751137481834"
     },
     "user_tz": 300
    },
    "id": "322059K-lc04",
    "outputId": "3d75a456-460c-4298-fd73-3cfcbc9adb16"
   },
   "outputs": [
    {
     "name": "stdout",
     "output_type": "stream",
     "text": [
      "[49, 144, 81, 324, 225]\n"
     ]
    }
   ],
   "source": [
    "#1.4 List\b Comprehension\n",
    "#1\n",
    "values = [7,12,9,18,15]\n",
    "#2\n",
    "squared = [number**2 for number in values]\n",
    "print(squared)\n"
   ]
  },
  {
   "cell_type": "code",
   "execution_count": 5,
   "metadata": {
    "colab": {
     "base_uri": "https://localhost:8080/",
     "height": 190
    },
    "colab_type": "code",
    "executionInfo": {
     "elapsed": 301,
     "status": "ok",
     "timestamp": 1580240712787,
     "user": {
      "displayName": "Jason Zhang",
      "photoUrl": "https://lh3.googleusercontent.com/a-/AAuE7mBR3SmoUyQUmshj1JW5J4OZJ2hx7XI42lBPprZhaq0=s64",
      "userId": "00906078751137481834"
     },
     "user_tz": 300
    },
    "id": "jiqVUNLUTyFO",
    "outputId": "1069664e-90b7-469c-f26b-960c7974d4e2"
   },
   "outputs": [
    {
     "data": {
      "text/plain": [
       "['High',\n",
       " 'Low',\n",
       " 'Medium',\n",
       " 'Low',\n",
       " 'Medium',\n",
       " 'Medium',\n",
       " 'Low',\n",
       " 'Medium',\n",
       " 'Low',\n",
       " 'Low']"
      ]
     },
     "execution_count": 5,
     "metadata": {},
     "output_type": "execute_result"
    }
   ],
   "source": [
    "#1.5 Functions and control flow\n",
    "#1 \n",
    "import random\n",
    "sample = []\n",
    "for i in range(10):\n",
    "  sample.append(random.randint(600,900))\n",
    "#2\n",
    "def credit_score(x):\n",
    "  score = []\n",
    "  for x in x:\n",
    "    if 600 <= x <= 699:\n",
    "        score.append('Low')\n",
    "    elif 700 <= x <= 799:\n",
    "        score.append('Medium')\n",
    "    elif 800 <= x <= 899:\n",
    "        score.append('High')\n",
    "  return score\n",
    "\n",
    "credit_score(sample)\n"
   ]
  },
  {
   "cell_type": "code",
   "execution_count": 6,
   "metadata": {
    "colab": {
     "base_uri": "https://localhost:8080/",
     "height": 466
    },
    "colab_type": "code",
    "executionInfo": {
     "elapsed": 328,
     "status": "ok",
     "timestamp": 1580242328246,
     "user": {
      "displayName": "Jason Zhang",
      "photoUrl": "https://lh3.googleusercontent.com/a-/AAuE7mBR3SmoUyQUmshj1JW5J4OZJ2hx7XI42lBPprZhaq0=s64",
      "userId": "00906078751137481834"
     },
     "user_tz": 300
    },
    "id": "fZ8uWFnQsAiY",
    "outputId": "e52f2f36-7712-4127-eba6-8fc35a164e42"
   },
   "outputs": [
    {
     "name": "stdout",
     "output_type": "stream",
     "text": [
      "2 * A =\n",
      " [[4 2]\n",
      " [2 2]\n",
      " [4 6]]\n",
      "-3 * B =\n",
      " [[12 -3]\n",
      " [-9  3]\n",
      " [ 6 -3]]\n",
      "A + B =\n",
      " [[-2  2]\n",
      " [ 4  0]\n",
      " [ 0  4]]\n",
      "A * B =\n",
      " [[-10 -16]\n",
      " [ -4  -4]\n",
      " [ 11  16]]\n",
      "The Inverse of B is:\n",
      " [[ 3. -1.]\n",
      " [-2.  1.]]\n",
      "A after replacement is:\n",
      " [[ 1  0  3  1]\n",
      " [-2  1  3  2]\n",
      " [ 0  0  0  2]\n",
      " [ 3  2  1 -1]]\n",
      "Determinant of the original matrix A is:\n",
      " 42.00000000000001\n"
     ]
    }
   ],
   "source": [
    "#2. Linear algebra in Numpy\n",
    "#2.1 Matrix Calculations\n",
    "#1 \n",
    "import numpy as np\n",
    "from numpy.linalg import inv\n",
    "A = np.array([[2, 1], [1, 1], [2, 3]])\n",
    "B = np.array([[-4, 1], [3,-1], [-2,1]])\n",
    "print('2 * A =\\n', 2*A)\n",
    "print('-3 * B =\\n', -3*B)\n",
    "print('A + B =\\n', A + B)\n",
    "\n",
    "#2\n",
    "A = np.array([[2, -6], [-4, 0], [1, 5]])\n",
    "B = np.array([[1, 1], [2,3]])\n",
    "print('A * B =\\n', np.dot(A,B))\n",
    "print('The Inverse of B is:\\n', inv(B))\n",
    "\n",
    "#3\n",
    "A = np.array([[1, 0, 4, 1], [-2, 1, -3, 2], [0, 0, 0, 2], [3, 2, 1, -1]])\n",
    "A_Replaced = np.where(abs(A) >=3, 3, A)\n",
    "print('A after replacement is:\\n', A_Replaced)\n",
    "print('Determinant of the original matrix A is:\\n', np.linalg.det(A))"
   ]
  },
  {
   "cell_type": "code",
   "execution_count": 7,
   "metadata": {
    "colab": {
     "base_uri": "https://localhost:8080/",
     "height": 86
    },
    "colab_type": "code",
    "executionInfo": {
     "elapsed": 463,
     "status": "ok",
     "timestamp": 1580244284945,
     "user": {
      "displayName": "Jason Zhang",
      "photoUrl": "https://lh3.googleusercontent.com/a-/AAuE7mBR3SmoUyQUmshj1JW5J4OZJ2hx7XI42lBPprZhaq0=s64",
      "userId": "00906078751137481834"
     },
     "user_tz": 300
    },
    "id": "M3DyfEFayN6R",
    "outputId": "bd04ea04-188e-4a76-b841-b2045da54157"
   },
   "outputs": [
    {
     "name": "stdout",
     "output_type": "stream",
     "text": [
      "The maxima of each vector is: 3 , 2 , 2\n",
      "The Euclidean norm of each vector is: 3.7416573867739413 , 3.0 , 4.69041575982343\n",
      "The L2 norms of A1 and A2 are: 5.0197648378370845 , 2.4998281017161057\n",
      "The L_inf norms of A1 and A2 are: 7.0 , 3.0\n",
      "The eigenvalues of A is: [ 1.11022302e-16+5.56776436j  1.11022302e-16-5.56776436j\n",
      " -1.20000000e+01+0.j        ]\n"
     ]
    }
   ],
   "source": [
    "#2.2 Norms and eigenvalues\n",
    "#1 \n",
    "x1 = np.transpose([1, -2, 3])\n",
    "x2 = np.transpose([2, 0, -1, 2])\n",
    "x3 = np.transpose([0, 1, -4, 2, -1])\n",
    "x1_max = np.amax(x1)\n",
    "x2_max = np.amax(x2)\n",
    "x3_max = np.amax(x3)\n",
    "print('The maxima of each vector is:', x1_max, ',', x2_max, ',', x3_max)\n",
    "x1_norm = np.linalg.norm(x1)\n",
    "x2_norm = np.linalg.norm(x2)\n",
    "x3_norm = np.linalg.norm(x3)\n",
    "print('The Euclidean norm of each vector is:', x1_norm, ',', x2_norm, ',', x3_norm)\n",
    "\n",
    "#2\n",
    "A1 = np.array([[1, -2], [4, 3]])\n",
    "A2 = np.array([[1, 0, 2], [0, 1, -1], [-1, 1, 1]])\n",
    "A1_L2 = np.linalg.norm(A1, 2)\n",
    "A2_L2 = np.linalg.norm(A2, 2)\n",
    "A1_Linf = np.linalg.norm(A1, np.inf)\n",
    "A2_Linf = np.linalg.norm(A2, np.inf)\n",
    "print('The L2 norms of A1 and A2 are:', A1_L2, ',', A2_L2)\n",
    "print('The L_inf norms of A1 and A2 are:', A1_Linf, ',', A2_Linf)\n",
    "\n",
    "#3\n",
    "A = np.array([[-2, -2, 3], [10, -1, 6], [10, -2, -9]])\n",
    "eigenvalues = np.linalg.eigvals(A)\n",
    "print('The eigenvalues of A is:', eigenvalues)"
   ]
  },
  {
   "cell_type": "code",
   "execution_count": 24,
   "metadata": {
    "colab": {
     "base_uri": "https://localhost:8080/",
     "height": 347
    },
    "colab_type": "code",
    "executionInfo": {
     "elapsed": 380,
     "status": "error",
     "timestamp": 1580250598405,
     "user": {
      "displayName": "Jason Zhang",
      "photoUrl": "https://lh3.googleusercontent.com/a-/AAuE7mBR3SmoUyQUmshj1JW5J4OZJ2hx7XI42lBPprZhaq0=s64",
      "userId": "00906078751137481834"
     },
     "user_tz": 300
    },
    "id": "JBF7myDRREfy",
    "outputId": "4d26d140-53dd-426e-ecf2-3e98e02fdfb1"
   },
   "outputs": [
    {
     "name": "stdout",
     "output_type": "stream",
     "text": [
      "         Date  Price_pl\n",
      "0  12/11/2015     1.049\n",
      "1  19/11/2015     0.999\n",
      "2   7/12/2015     0.999\n",
      "3  19/12/2015     1.019\n",
      "4  04/01/2016     1.019\n",
      "The maximum price is: 1.336 with index of 73 and date of 23/05/2018\n",
      "The minimum price is: 0.889 with index of 9 and date of 20/2/2016\n",
      "The statistics are as follows:\n",
      " mean: 1.0953717948717947 \n",
      " median: 1.079 \n",
      " quantile: 1.079 \n",
      " skewness: 0.43538521272099423 \n",
      " kurtosis: -0.20600570829994425\n",
      "            Price_pl\n",
      "Month Year          \n",
      "01    2016  0.964000\n",
      "      2017  1.119000\n",
      "      2018  1.197500\n",
      "02    2017  1.079000\n",
      "      2018  1.153000\n",
      "03    2016  0.929000\n",
      "      2017  1.075000\n",
      "      2018  1.229500\n",
      "04    2016  1.059000\n",
      "      2017  1.175667\n",
      "05    2016  1.086500\n",
      "      2017  1.109000\n",
      "      2018  1.328333\n",
      "06    2017  1.022000\n",
      "07    2016  0.999000\n",
      "      2017  1.059000\n",
      "08    2016  0.996667\n",
      "      2017  1.104000\n",
      "09    2016  0.999000\n",
      "      2017  1.086000\n",
      "10    2016  1.049000\n",
      "      2017  1.126000\n",
      "      2018  1.209000\n",
      "11    2015  1.024000\n",
      "      2016  0.949000\n",
      "      2017  1.183000\n",
      "      2018  1.127000\n",
      "12    2015  1.009000\n",
      "      2016  1.074000\n",
      "      2017  1.211000\n",
      "      2018  1.016000\n",
      "2     2016  0.899000\n",
      "      2018  1.219000\n",
      "3     2018  1.186000\n",
      "4     2018  1.276000\n",
      "5     2016  1.054000\n",
      "6     2016  1.048000\n",
      "      2018  1.289000\n",
      "7     2016  1.049000\n",
      "      2018  1.312500\n"
     ]
    },
    {
     "data": {
      "text/html": [
       "<div>\n",
       "<style scoped>\n",
       "    .dataframe tbody tr th:only-of-type {\n",
       "        vertical-align: middle;\n",
       "    }\n",
       "\n",
       "    .dataframe tbody tr th {\n",
       "        vertical-align: top;\n",
       "    }\n",
       "\n",
       "    .dataframe thead th {\n",
       "        text-align: right;\n",
       "    }\n",
       "</style>\n",
       "<table border=\"1\" class=\"dataframe\">\n",
       "  <thead>\n",
       "    <tr style=\"text-align: right;\">\n",
       "      <th></th>\n",
       "      <th>Season</th>\n",
       "      <th>Date</th>\n",
       "      <th>Price_pl</th>\n",
       "      <th>Month</th>\n",
       "      <th>Year</th>\n",
       "    </tr>\n",
       "  </thead>\n",
       "  <tbody>\n",
       "    <tr>\n",
       "      <td>0</td>\n",
       "      <td>Fall</td>\n",
       "      <td>12/11/2015</td>\n",
       "      <td>1.049</td>\n",
       "      <td>11</td>\n",
       "      <td>2015</td>\n",
       "    </tr>\n",
       "    <tr>\n",
       "      <td>1</td>\n",
       "      <td>Fall</td>\n",
       "      <td>19/11/2015</td>\n",
       "      <td>0.999</td>\n",
       "      <td>11</td>\n",
       "      <td>2015</td>\n",
       "    </tr>\n",
       "    <tr>\n",
       "      <td>2</td>\n",
       "      <td>Winter</td>\n",
       "      <td>7/12/2015</td>\n",
       "      <td>0.999</td>\n",
       "      <td>12</td>\n",
       "      <td>2015</td>\n",
       "    </tr>\n",
       "    <tr>\n",
       "      <td>3</td>\n",
       "      <td>Winter</td>\n",
       "      <td>19/12/2015</td>\n",
       "      <td>1.019</td>\n",
       "      <td>12</td>\n",
       "      <td>2015</td>\n",
       "    </tr>\n",
       "    <tr>\n",
       "      <td>4</td>\n",
       "      <td>Winter</td>\n",
       "      <td>04/01/2016</td>\n",
       "      <td>1.019</td>\n",
       "      <td>01</td>\n",
       "      <td>2016</td>\n",
       "    </tr>\n",
       "    <tr>\n",
       "      <td>...</td>\n",
       "      <td>...</td>\n",
       "      <td>...</td>\n",
       "      <td>...</td>\n",
       "      <td>...</td>\n",
       "      <td>...</td>\n",
       "    </tr>\n",
       "    <tr>\n",
       "      <td>77</td>\n",
       "      <td>Fall</td>\n",
       "      <td>17/10/2018</td>\n",
       "      <td>1.209</td>\n",
       "      <td>10</td>\n",
       "      <td>2018</td>\n",
       "    </tr>\n",
       "    <tr>\n",
       "      <td>78</td>\n",
       "      <td>Fall</td>\n",
       "      <td>01/11/2018</td>\n",
       "      <td>1.196</td>\n",
       "      <td>11</td>\n",
       "      <td>2018</td>\n",
       "    </tr>\n",
       "    <tr>\n",
       "      <td>79</td>\n",
       "      <td>Fall</td>\n",
       "      <td>12/11/2018</td>\n",
       "      <td>1.126</td>\n",
       "      <td>11</td>\n",
       "      <td>2018</td>\n",
       "    </tr>\n",
       "    <tr>\n",
       "      <td>80</td>\n",
       "      <td>Fall</td>\n",
       "      <td>27/11/2018</td>\n",
       "      <td>1.059</td>\n",
       "      <td>11</td>\n",
       "      <td>2018</td>\n",
       "    </tr>\n",
       "    <tr>\n",
       "      <td>81</td>\n",
       "      <td>Winter</td>\n",
       "      <td>06/12/2018</td>\n",
       "      <td>1.016</td>\n",
       "      <td>12</td>\n",
       "      <td>2018</td>\n",
       "    </tr>\n",
       "  </tbody>\n",
       "</table>\n",
       "<p>82 rows × 5 columns</p>\n",
       "</div>"
      ],
      "text/plain": [
       "    Season        Date  Price_pl Month  Year\n",
       "0     Fall  12/11/2015     1.049    11  2015\n",
       "1     Fall  19/11/2015     0.999    11  2015\n",
       "2   Winter   7/12/2015     0.999    12  2015\n",
       "3   Winter  19/12/2015     1.019    12  2015\n",
       "4   Winter  04/01/2016     1.019    01  2016\n",
       "..     ...         ...       ...   ...   ...\n",
       "77    Fall  17/10/2018     1.209    10  2018\n",
       "78    Fall  01/11/2018     1.196    11  2018\n",
       "79    Fall  12/11/2018     1.126    11  2018\n",
       "80    Fall  27/11/2018     1.059    11  2018\n",
       "81  Winter  06/12/2018     1.016    12  2018\n",
       "\n",
       "[82 rows x 5 columns]"
      ]
     },
     "execution_count": 24,
     "metadata": {},
     "output_type": "execute_result"
    },
    {
     "data": {
      "image/png": "[encoded data removed]",
      "text/plain": [
       "<Figure size 432x288 with 1 Axes>"
      ]
     },
     "metadata": {
      "needs_background": "light"
     },
     "output_type": "display_data"
    }
   ],
   "source": [
    "#3. Pandas manipulation\n",
    "#1\n",
    "import pandas as pd\n",
    "def interpolate(x):\n",
    "    \n",
    "    df = x.interpolate()\n",
    "    \n",
    "    return df\n",
    "\n",
    "df = pd.read_excel('Gas_prices.xlsx')\n",
    "interpolate(df)\n",
    "print(df.head())\n",
    "\n",
    "#2\n",
    "max_price = df['Price_pl'].max()\n",
    "max_index = df['Price_pl'].idxmax()\n",
    "max_date = df.loc[df['Price_pl'] == max_price,'Date'].iloc[0]\n",
    "print('The maximum price is:', max_price, 'with index of', max_index, 'and date of', max_date)\n",
    "min_price = df['Price_pl'].min()\n",
    "min_index = df['Price_pl'].idxmin()\n",
    "min_date = df.loc[df['Price_pl'] == min_price,'Date'].iloc[0]\n",
    "print('The minimum price is:', min_price, 'with index of', min_index, 'and date of', min_date)\n",
    "\n",
    "#3\n",
    "mean = df.mean().iloc[0]\n",
    "median = df.median().iloc[0]\n",
    "quantile = df.quantile().iloc[0]\n",
    "skewness = df.skew().iloc[0]\n",
    "kurtosis = df.kurtosis().iloc[0]\n",
    "print('The statistics are as follows:\\n mean:', mean, '\\n median:', median, '\\n quantile:', quantile, '\\n skewness:', skewness, '\\n kurtosis:', kurtosis) \n",
    "\n",
    "#4 \n",
    "split = df['Date'].str.split(\"/\", n=1, expand = True)\n",
    "split = split[1].str.split(\"/\", n=1, expand = True)\n",
    "df['Month'] = split[0]\n",
    "df['Year'] = split[1]\n",
    "pt = pd.pivot_table(df, values = 'Price_pl', index = ['Month', 'Year'])\n",
    "monthly_avg = pt.groupby(['Month']).mean()\n",
    "plt.plot(monthly_avg)\n",
    "print(pt)\n",
    "\n",
    "#5\n",
    "seasons = []\n",
    "for index, row in df.iterrows():\n",
    "    \n",
    "    if int(row['Month']) == 12 or int(row['Month']) == 1 or int(row['Month']) == 2:\n",
    "        seasons.append('Winter') \n",
    "    elif 3 <= int(row['Month']) <= 5:\n",
    "        seasons.append('Spring')\n",
    "    elif 6 <= int(row['Month']) <= 8:\n",
    "        seasons.append('Summer')\n",
    "    elif 9 <= int(row['Month']) <= 11:\n",
    "        seasons.append('Fall')\n",
    "    else:\n",
    "        seasons.append('NA')\n",
    "len(seasons)\n",
    "\n",
    "df.insert(loc=0, column='Season', value=seasons)\n",
    "df.set_index([df.index, 'Season'])\n",
    "df"
   ]
  },
  {
   "cell_type": "code",
   "execution_count": 9,
   "metadata": {},
   "outputs": [
    {
     "name": "stdout",
     "output_type": "stream",
     "text": [
      "Year       2013   2014   2015   2016   2017\n",
      "Month                                      \n",
      "January    4230   4103   4318   4640   5155\n",
      "February   5615   5696   6294   7582   7955\n",
      "March      7536   8052   8886  10260  11959\n",
      "April      9537   9660  11254  12016  11470\n",
      "May        9945  11013  11640  12789  10068\n",
      "June       8821  10132  11905  12725   7896\n",
      "July       8367   9152   9813   9929   5871\n",
      "August     7390   7568   7943   9748   6310\n",
      "September  7256   8001   8147   9828   6340\n",
      "October    7940   8512   8759   9715   7087\n",
      "November   6354   6475   7337   8503   7353\n",
      "December   4058   4418   4917   5305   4930\n",
      "       Sales\n",
      "Year        \n",
      "2013   87049\n",
      "2014   92782\n",
      "2015  101213\n",
      "2016  113040\n",
      "2017   92394\n",
      "Year\n",
      "2013     87049\n",
      "2014     92782\n",
      "2015    101213\n",
      "2016    113040\n",
      "2017     92394\n",
      "dtype: int64\n"
     ]
    },
    {
     "data": {
      "text/plain": [
       "<matplotlib.axes._subplots.AxesSubplot at 0x114c54690>"
      ]
     },
     "execution_count": 9,
     "metadata": {},
     "output_type": "execute_result"
    },
    {
     "data": {
      "image/png": "[encoded data removed]",
      "text/plain": [
       "<Figure size 432x288 with 1 Axes>"
      ]
     },
     "metadata": {
      "needs_background": "light"
     },
     "output_type": "display_data"
    },
    {
     "data": {
      "text/plain": [
       "<Figure size 432x288 with 0 Axes>"
      ]
     },
     "metadata": {},
     "output_type": "display_data"
    },
    {
     "data": {
      "image/png": "[encoded data removed]",
      "text/plain": [
       "<Figure size 432x288 with 1 Axes>"
      ]
     },
     "metadata": {
      "needs_background": "light"
     },
     "output_type": "display_data"
    },
    {
     "data": {
      "image/png": "[encoded data removed]",
      "text/plain": [
       "<Figure size 432x288 with 1 Axes>"
      ]
     },
     "metadata": {
      "needs_background": "light"
     },
     "output_type": "display_data"
    }
   ],
   "source": [
    "#4 Pivot, aggregate and plot timeseries\n",
    "#4.1 \n",
    "df = pd.read_excel('TREB_data.xlsx')\n",
    "df['Month'] = df['MonthYear'].str.split('-', expand=True)[0]\n",
    "df['Year'] = df['MonthYear'].str.split('-', expand=True)[1]\n",
    "\n",
    "table = pd.pivot_table(df, values='Sales', index=['Month'], columns=['Year'])\n",
    "cats = ['January', 'February', 'March', 'April','May','June', 'July', 'August','September', 'October', 'November', 'December']\n",
    "table.index = pd.CategoricalIndex(table.index, categories=cats, ordered=True)\n",
    "table = table.sort_index()\n",
    "print(table)\n",
    "\n",
    "#4.2\n",
    "import matplotlib.pyplot as plt\n",
    "table.plot(kind='line')\n",
    "\n",
    "#4.3\n",
    "#a\n",
    "df_year = df.groupby('Year')[['Sales']].sum()\n",
    "print(df_year)\n",
    "f1 = plt.figure()\n",
    "df_year.plot(kind='bar')\n",
    "\n",
    "#b\n",
    "table_year = table.sum(axis=0)\n",
    "print(table_year)\n",
    "f2 = plt.figure()\n",
    "table_year.plot(kind='bar')"
   ]
  }
 ],
 "metadata": {
  "colab": {
   "authorship_tag": "ABX9TyOVCpQ5xAnGtQDq1MZ0VogT",
   "collapsed_sections": [],
   "name": "CHE1147 Assignment 1.ipynb",
   "provenance": []
  },
  "kernelspec": {
   "display_name": "Python 3",
   "language": "python",
   "name": "python3"
  },
  "language_info": {
   "codemirror_mode": {
    "name": "ipython",
    "version": 3
   },
   "file_extension": ".py",
   "mimetype": "text/x-python",
   "name": "python",
   "nbconvert_exporter": "python",
   "pygments_lexer": "ipython3",
   "version": "3.7.4"
  }
 },
 "nbformat": 4,
 "nbformat_minor": 1
}
